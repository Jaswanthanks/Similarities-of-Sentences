{
 "cells": [
  {
   "cell_type": "code",
   "execution_count": 2,
   "id": "d5ce8304",
   "metadata": {},
   "outputs": [],
   "source": [
    "import spacy"
   ]
  },
  {
   "cell_type": "code",
   "execution_count": 3,
   "id": "2e4aabc9",
   "metadata": {},
   "outputs": [],
   "source": [
    "import numpy as np\n",
    "import pandas as pd\n",
    "nlp = spacy.load(\"en_core_web_lg\")"
   ]
  },
  {
   "cell_type": "code",
   "execution_count": 4,
   "id": "15e2f81b",
   "metadata": {},
   "outputs": [
    {
     "data": {
      "text/html": [
       "<div>\n",
       "<style scoped>\n",
       "    .dataframe tbody tr th:only-of-type {\n",
       "        vertical-align: middle;\n",
       "    }\n",
       "\n",
       "    .dataframe tbody tr th {\n",
       "        vertical-align: top;\n",
       "    }\n",
       "\n",
       "    .dataframe thead th {\n",
       "        text-align: right;\n",
       "    }\n",
       "</style>\n",
       "<table border=\"1\" class=\"dataframe\">\n",
       "  <thead>\n",
       "    <tr style=\"text-align: right;\">\n",
       "      <th></th>\n",
       "      <th>loc</th>\n",
       "      <th>sentence</th>\n",
       "    </tr>\n",
       "  </thead>\n",
       "  <tbody>\n",
       "    <tr>\n",
       "      <th>0</th>\n",
       "      <td>1</td>\n",
       "      <td>What is your age?</td>\n",
       "    </tr>\n",
       "    <tr>\n",
       "      <th>1</th>\n",
       "      <td>2</td>\n",
       "      <td>How old are you?</td>\n",
       "    </tr>\n",
       "    <tr>\n",
       "      <th>2</th>\n",
       "      <td>3</td>\n",
       "      <td>A man is eating a piece of bread</td>\n",
       "    </tr>\n",
       "    <tr>\n",
       "      <th>3</th>\n",
       "      <td>4</td>\n",
       "      <td>A man is eating food</td>\n",
       "    </tr>\n",
       "    <tr>\n",
       "      <th>4</th>\n",
       "      <td>5</td>\n",
       "      <td>The cat was fast asleep on the windowsill</td>\n",
       "    </tr>\n",
       "    <tr>\n",
       "      <th>5</th>\n",
       "      <td>6</td>\n",
       "      <td>the dog was sound asleep on the living room</td>\n",
       "    </tr>\n",
       "    <tr>\n",
       "      <th>6</th>\n",
       "      <td>7</td>\n",
       "      <td>ali is very hungry</td>\n",
       "    </tr>\n",
       "    <tr>\n",
       "      <th>7</th>\n",
       "      <td>8</td>\n",
       "      <td>ali want to eat</td>\n",
       "    </tr>\n",
       "    <tr>\n",
       "      <th>8</th>\n",
       "      <td>9</td>\n",
       "      <td>I want to go to sleep</td>\n",
       "    </tr>\n",
       "    <tr>\n",
       "      <th>9</th>\n",
       "      <td>10</td>\n",
       "      <td>I am very sleepy</td>\n",
       "    </tr>\n",
       "  </tbody>\n",
       "</table>\n",
       "</div>"
      ],
      "text/plain": [
       "   loc                                     sentence\n",
       "0    1                            What is your age?\n",
       "1    2                             How old are you?\n",
       "2    3             A man is eating a piece of bread\n",
       "3    4                         A man is eating food\n",
       "4    5    The cat was fast asleep on the windowsill\n",
       "5    6  the dog was sound asleep on the living room\n",
       "6    7                           ali is very hungry\n",
       "7    8                              ali want to eat\n",
       "8    9                        I want to go to sleep\n",
       "9   10                             I am very sleepy"
      ]
     },
     "execution_count": 4,
     "metadata": {},
     "output_type": "execute_result"
    }
   ],
   "source": [
    "data = pd.read_csv(\"E:\\\\dataset\\\\intern.csv\")\n",
    "data"
   ]
  },
  {
   "cell_type": "code",
   "execution_count": 5,
   "id": "7551d9a9",
   "metadata": {},
   "outputs": [
    {
     "data": {
      "text/plain": [
       "'A man is eating a piece of bread'"
      ]
     },
     "execution_count": 5,
     "metadata": {},
     "output_type": "execute_result"
    }
   ],
   "source": [
    "ref_sent = data.loc[data['loc'] == 3,'sentence'].iloc[0]\n",
    "ref_sent"
   ]
  },
  {
   "cell_type": "code",
   "execution_count": 6,
   "id": "d6410dbb",
   "metadata": {},
   "outputs": [
    {
     "data": {
      "text/plain": [
       "A man is eating a piece of bread"
      ]
     },
     "execution_count": 6,
     "metadata": {},
     "output_type": "execute_result"
    }
   ],
   "source": [
    "ref_vec = nlp(ref_sent)\n",
    "ref_vec"
   ]
  },
  {
   "cell_type": "code",
   "execution_count": 7,
   "id": "19e10917",
   "metadata": {},
   "outputs": [],
   "source": [
    "all_docs=[nlp(row) for row in data['sentence']]"
   ]
  },
  {
   "cell_type": "code",
   "execution_count": 8,
   "id": "59a351b9",
   "metadata": {},
   "outputs": [],
   "source": [
    "sims = []\n",
    "docs_id = []\n",
    "for i in range (len(all_docs)):\n",
    "    sim = all_docs[i].similarity(ref_vec)\n",
    "    sims.append(sim)\n",
    "    docs_id.append(i)\n",
    "    sims_docs = pd.DataFrame(list(zip(docs_id,sims)),columns = [\"docs_id\",\"sims\"])"
   ]
  },
  {
   "cell_type": "code",
   "execution_count": 9,
   "id": "3bd5a30c",
   "metadata": {},
   "outputs": [
    {
     "data": {
      "text/html": [
       "<div>\n",
       "<style scoped>\n",
       "    .dataframe tbody tr th:only-of-type {\n",
       "        vertical-align: middle;\n",
       "    }\n",
       "\n",
       "    .dataframe tbody tr th {\n",
       "        vertical-align: top;\n",
       "    }\n",
       "\n",
       "    .dataframe thead th {\n",
       "        text-align: right;\n",
       "    }\n",
       "</style>\n",
       "<table border=\"1\" class=\"dataframe\">\n",
       "  <thead>\n",
       "    <tr style=\"text-align: right;\">\n",
       "      <th></th>\n",
       "      <th>docs_id</th>\n",
       "      <th>sims</th>\n",
       "    </tr>\n",
       "  </thead>\n",
       "  <tbody>\n",
       "    <tr>\n",
       "      <th>0</th>\n",
       "      <td>0</td>\n",
       "      <td>0.483926</td>\n",
       "    </tr>\n",
       "    <tr>\n",
       "      <th>1</th>\n",
       "      <td>1</td>\n",
       "      <td>0.190248</td>\n",
       "    </tr>\n",
       "    <tr>\n",
       "      <th>2</th>\n",
       "      <td>2</td>\n",
       "      <td>1.000000</td>\n",
       "    </tr>\n",
       "    <tr>\n",
       "      <th>3</th>\n",
       "      <td>3</td>\n",
       "      <td>0.873825</td>\n",
       "    </tr>\n",
       "    <tr>\n",
       "      <th>4</th>\n",
       "      <td>4</td>\n",
       "      <td>0.531967</td>\n",
       "    </tr>\n",
       "    <tr>\n",
       "      <th>5</th>\n",
       "      <td>5</td>\n",
       "      <td>0.560842</td>\n",
       "    </tr>\n",
       "    <tr>\n",
       "      <th>6</th>\n",
       "      <td>6</td>\n",
       "      <td>0.623235</td>\n",
       "    </tr>\n",
       "    <tr>\n",
       "      <th>7</th>\n",
       "      <td>7</td>\n",
       "      <td>0.137984</td>\n",
       "    </tr>\n",
       "    <tr>\n",
       "      <th>8</th>\n",
       "      <td>8</td>\n",
       "      <td>0.105139</td>\n",
       "    </tr>\n",
       "    <tr>\n",
       "      <th>9</th>\n",
       "      <td>9</td>\n",
       "      <td>0.145329</td>\n",
       "    </tr>\n",
       "  </tbody>\n",
       "</table>\n",
       "</div>"
      ],
      "text/plain": [
       "   docs_id      sims\n",
       "0        0  0.483926\n",
       "1        1  0.190248\n",
       "2        2  1.000000\n",
       "3        3  0.873825\n",
       "4        4  0.531967\n",
       "5        5  0.560842\n",
       "6        6  0.623235\n",
       "7        7  0.137984\n",
       "8        8  0.105139\n",
       "9        9  0.145329"
      ]
     },
     "execution_count": 9,
     "metadata": {},
     "output_type": "execute_result"
    }
   ],
   "source": [
    "sort_sims = sims_docs.sort_values(by=\"sims\",ascending = False).sort_index()\n",
    "sort_sims"
   ]
  },
  {
   "cell_type": "code",
   "execution_count": 11,
   "id": "46bd4fdf",
   "metadata": {},
   "outputs": [],
   "source": [
    "file = sort_sims.to_csv(\"outputdataint.csv\")\n",
    "file"
   ]
  },
  {
   "cell_type": "code",
   "execution_count": 15,
   "id": "c07a8b4f",
   "metadata": {},
   "outputs": [],
   "source": [
    "data1 = pd.read_csv(\"E:\\\\outputdataint.csv\")"
   ]
  },
  {
   "cell_type": "code",
   "execution_count": 16,
   "id": "f8072b69",
   "metadata": {},
   "outputs": [
    {
     "data": {
      "text/html": [
       "<div>\n",
       "<style scoped>\n",
       "    .dataframe tbody tr th:only-of-type {\n",
       "        vertical-align: middle;\n",
       "    }\n",
       "\n",
       "    .dataframe tbody tr th {\n",
       "        vertical-align: top;\n",
       "    }\n",
       "\n",
       "    .dataframe thead th {\n",
       "        text-align: right;\n",
       "    }\n",
       "</style>\n",
       "<table border=\"1\" class=\"dataframe\">\n",
       "  <thead>\n",
       "    <tr style=\"text-align: right;\">\n",
       "      <th></th>\n",
       "      <th>loc</th>\n",
       "      <th>sentence</th>\n",
       "      <th>Unnamed: 0</th>\n",
       "      <th>docs_id</th>\n",
       "      <th>sims</th>\n",
       "    </tr>\n",
       "  </thead>\n",
       "  <tbody>\n",
       "    <tr>\n",
       "      <th>0</th>\n",
       "      <td>1</td>\n",
       "      <td>What is your age?</td>\n",
       "      <td>0</td>\n",
       "      <td>0</td>\n",
       "      <td>0.483926</td>\n",
       "    </tr>\n",
       "    <tr>\n",
       "      <th>1</th>\n",
       "      <td>2</td>\n",
       "      <td>How old are you?</td>\n",
       "      <td>1</td>\n",
       "      <td>1</td>\n",
       "      <td>0.190248</td>\n",
       "    </tr>\n",
       "    <tr>\n",
       "      <th>2</th>\n",
       "      <td>3</td>\n",
       "      <td>A man is eating a piece of bread</td>\n",
       "      <td>2</td>\n",
       "      <td>2</td>\n",
       "      <td>1.000000</td>\n",
       "    </tr>\n",
       "    <tr>\n",
       "      <th>3</th>\n",
       "      <td>4</td>\n",
       "      <td>A man is eating food</td>\n",
       "      <td>3</td>\n",
       "      <td>3</td>\n",
       "      <td>0.873825</td>\n",
       "    </tr>\n",
       "    <tr>\n",
       "      <th>4</th>\n",
       "      <td>5</td>\n",
       "      <td>The cat was fast asleep on the windowsill</td>\n",
       "      <td>4</td>\n",
       "      <td>4</td>\n",
       "      <td>0.531967</td>\n",
       "    </tr>\n",
       "    <tr>\n",
       "      <th>5</th>\n",
       "      <td>6</td>\n",
       "      <td>the dog was sound asleep on the living room</td>\n",
       "      <td>5</td>\n",
       "      <td>5</td>\n",
       "      <td>0.560842</td>\n",
       "    </tr>\n",
       "    <tr>\n",
       "      <th>6</th>\n",
       "      <td>7</td>\n",
       "      <td>ali is very hungry</td>\n",
       "      <td>6</td>\n",
       "      <td>6</td>\n",
       "      <td>0.623235</td>\n",
       "    </tr>\n",
       "    <tr>\n",
       "      <th>7</th>\n",
       "      <td>8</td>\n",
       "      <td>ali want to eat</td>\n",
       "      <td>7</td>\n",
       "      <td>7</td>\n",
       "      <td>0.137984</td>\n",
       "    </tr>\n",
       "    <tr>\n",
       "      <th>8</th>\n",
       "      <td>9</td>\n",
       "      <td>I want to go to sleep</td>\n",
       "      <td>8</td>\n",
       "      <td>8</td>\n",
       "      <td>0.105139</td>\n",
       "    </tr>\n",
       "    <tr>\n",
       "      <th>9</th>\n",
       "      <td>10</td>\n",
       "      <td>I am very sleepy</td>\n",
       "      <td>9</td>\n",
       "      <td>9</td>\n",
       "      <td>0.145329</td>\n",
       "    </tr>\n",
       "  </tbody>\n",
       "</table>\n",
       "</div>"
      ],
      "text/plain": [
       "   loc                                     sentence  Unnamed: 0  docs_id  \\\n",
       "0    1                            What is your age?           0        0   \n",
       "1    2                             How old are you?           1        1   \n",
       "2    3             A man is eating a piece of bread           2        2   \n",
       "3    4                         A man is eating food           3        3   \n",
       "4    5    The cat was fast asleep on the windowsill           4        4   \n",
       "5    6  the dog was sound asleep on the living room           5        5   \n",
       "6    7                           ali is very hungry           6        6   \n",
       "7    8                              ali want to eat           7        7   \n",
       "8    9                        I want to go to sleep           8        8   \n",
       "9   10                             I am very sleepy           9        9   \n",
       "\n",
       "       sims  \n",
       "0  0.483926  \n",
       "1  0.190248  \n",
       "2  1.000000  \n",
       "3  0.873825  \n",
       "4  0.531967  \n",
       "5  0.560842  \n",
       "6  0.623235  \n",
       "7  0.137984  \n",
       "8  0.105139  \n",
       "9  0.145329  "
      ]
     },
     "execution_count": 16,
     "metadata": {},
     "output_type": "execute_result"
    }
   ],
   "source": [
    "mergefile = pd.concat([data,data1],axis = 1,sort = False)\n",
    "mergefile\n"
   ]
  },
  {
   "cell_type": "code",
   "execution_count": 17,
   "id": "8b86810c",
   "metadata": {},
   "outputs": [],
   "source": [
    "filefinal = mergefile.to_csv(\"internfinalcsv.csv\")"
   ]
  },
  {
   "cell_type": "code",
   "execution_count": null,
   "id": "40c3ca28",
   "metadata": {},
   "outputs": [],
   "source": []
  }
 ],
 "metadata": {
  "kernelspec": {
   "display_name": "Python 3 (ipykernel)",
   "language": "python",
   "name": "python3"
  },
  "language_info": {
   "codemirror_mode": {
    "name": "ipython",
    "version": 3
   },
   "file_extension": ".py",
   "mimetype": "text/x-python",
   "name": "python",
   "nbconvert_exporter": "python",
   "pygments_lexer": "ipython3",
   "version": "3.11.4"
  }
 },
 "nbformat": 4,
 "nbformat_minor": 5
}
